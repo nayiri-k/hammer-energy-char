{
 "cells": [
  {
   "cell_type": "code",
   "execution_count": 1,
   "metadata": {},
   "outputs": [],
   "source": [
    "import yaml\n",
    "import os\n",
    "from pathlib import Path\n",
    "import pandas as pd\n",
    "import struct\n"
   ]
  },
  {
   "cell_type": "markdown",
   "metadata": {},
   "source": [
    "# Setup"
   ]
  },
  {
   "cell_type": "code",
   "execution_count": 2,
   "metadata": {},
   "outputs": [
    {
     "data": {
      "text/plain": [
       "PosixPath('/bwrcq/scratch/nayiri/hammer-sep24/e2e/hammer-energy-char/experiments/tests-sky130')"
      ]
     },
     "execution_count": 2,
     "metadata": {},
     "output_type": "execute_result"
    }
   ],
   "source": [
    "# experiment setup\n",
    "PDK = 'sky130'\n",
    "CLOCK_PERIOD = 10 if PDK == 'sky130' else 2 # ns\n",
    "\n",
    "# useful paths\n",
    "energy_char_dpath = Path(os.getcwd()).parent\n",
    "tests_dpath = energy_char_dpath/f'experiments/tests-{PDK}'\n",
    "tests_dpath"
   ]
  },
  {
   "cell_type": "markdown",
   "metadata": {},
   "source": [
    "# Generate experiment files"
   ]
  },
  {
   "cell_type": "code",
   "execution_count": 3,
   "metadata": {},
   "outputs": [],
   "source": [
    "N_ITER = 50\n",
    "\n",
    "max4 = (1 << 4) - 1\n",
    "max8 = (1 << 8) - 1\n",
    "max32 = (1 << 32) - 1\n",
    "max64 = (1 << 64) - 1\n",
    "\n",
    "\n",
    "# tests dict\n",
    "#   name format: <design>-<test_name>\n",
    "#       inputs: list, where each item is a tuple of items per line in input.txt\n",
    "#       defines: for verilog"
   ]
  },
  {
   "cell_type": "markdown",
   "metadata": {},
   "source": [
    "## add"
   ]
  },
  {
   "cell_type": "code",
   "execution_count": 4,
   "metadata": {},
   "outputs": [],
   "source": [
    "adder_widths = [8,32] # [8,16,32,64]"
   ]
  },
  {
   "cell_type": "code",
   "execution_count": 5,
   "metadata": {},
   "outputs": [],
   "source": [
    "add_tests = {}\n",
    "\n",
    "for w in adder_widths:\n",
    "    design = f\"add{w}\"\n",
    "    maxw = (1 << w) - 1\n",
    "    max0 = int(maxw/2)\n",
    "    max1 = maxw - max0\n",
    "    d = {\n",
    "        f'{design}-zero': {\n",
    "            'inputs': [(0,0) for _ in range(N_ITER)],\n",
    "            'defines': dict(WIDTH=w),\n",
    "        },\n",
    "        f'{design}-max_input_switching': {\n",
    "            # input operands alternate between 0 and all 1's\n",
    "            'inputs': [((0,0) if i%2 else (maxw,maxw)) for i in range(N_ITER)],\n",
    "            'defines': dict(WIDTH=w),\n",
    "        },\n",
    "        f'{design}-max_output_switching': {\n",
    "            # output operands alternate between 0 and all 1's (so set inputs accordingly)\n",
    "            'inputs': [((0,0) if i%2 else (max0,max1)) for i in range(N_ITER)],\n",
    "            'defines': dict(WIDTH=w),\n",
    "        },\n",
    "    }\n",
    "    add_tests.update(d)\n",
    "\n",
    "for t in add_tests:\n",
    "    add_tests[t]['design'] = t.split('-')[0]\n",
    "    add_tests[t]['inst'] = '/add/adder0'\n",
    "    add_tests[t]['clock'] = 'clock'\n",
    "    add_tests[t]['vsrcs'] = ['src/add.v']\n",
    "    add_tests[t]['vsrcs_tb'] = ['src/add_tb.v']\n",
    "    add_tests[t]['top_module'] = 'add'\n",
    "    add_tests[t]['tb_name'] = 'add_tb'\n",
    "    add_tests[t]['tb_dut'] = 'add_dut'\n",
    "    add_tests[t]['input_ports'] = ['in0','in1']\n",
    "    add_tests[t]['output_ports'] = ['out']\n"
   ]
  },
  {
   "cell_type": "markdown",
   "metadata": {},
   "source": [
    "## all\n",
    "\n",
    "Combine all test dicts"
   ]
  },
  {
   "cell_type": "code",
   "execution_count": 6,
   "metadata": {},
   "outputs": [],
   "source": [
    "tests_dict = add_tests"
   ]
  },
  {
   "cell_type": "markdown",
   "metadata": {},
   "source": [
    "### Input files"
   ]
  },
  {
   "cell_type": "code",
   "execution_count": 7,
   "metadata": {},
   "outputs": [],
   "source": [
    "# create dirs\n",
    "for t,td in tests_dict.items():\n",
    "    # experiment directory - will contain all input/output files\n",
    "    root = tests_dpath/t\n",
    "    root.mkdir(exist_ok=True,parents=True)\n",
    "    td['defines']['TESTROOT'] = root\n",
    "    td['root'] = root\n",
    "    # hammer build directory\n",
    "    td['obj_dpath'] = energy_char_dpath/f\"build-{PDK}-cm/{td['design']}\"\n",
    "\n",
    "# convert data operands to binary format to dump to input.txt (gets more complicated for floats)\n",
    "def val2binary(val,input_format='') -> str:\n",
    "    if type(val) == str: return val\n",
    "    elif type(val) == int: return '{0:b}'.format(val)\n",
    "    elif type(val) == float:\n",
    "        pack_format = '!e'\n",
    "        if input_format == 'float32':       pack_format = '!f'\n",
    "        elif input_format == 'float64':     pack_format = '!d'\n",
    "        return ''.join('{:0>8b}'.format(c) for c in struct.pack(pack_format, val))\n",
    "    else: assert(False), f\"Invalid dtype, {type(val)}\"\n",
    "\n",
    "\n",
    "# write out input.txt\n",
    "for test,td in tests_dict.items():\n",
    "    input_format = td['input_format'] if 'input_format' in td else '' # only used for floating point\n",
    "    with (td['root']/'input.txt').open('w') as f:\n",
    "        for operands in td['inputs']:\n",
    "            f.write(\" \".join([val2binary(operand,input_format) for operand in operands]) + '\\n')\n"
   ]
  },
  {
   "cell_type": "markdown",
   "metadata": {},
   "source": [
    "### Hammer Config"
   ]
  },
  {
   "cell_type": "code",
   "execution_count": 8,
   "metadata": {},
   "outputs": [],
   "source": [
    "def write_cfg(td):\n",
    "  defines_str = '\\n'.join( [ f\"  - {key}={val}\" for key,val in td['defines'].items() ] )\n",
    "  clock_period = 10 if PDK == 'sky130' else 2\n",
    "  delays = [f\"\"\"{{name: {i}, clock: {td['clock']}, delay: \"1\", direction: input}}\"\"\" for i in td['input_ports']]\n",
    "  delays += [f\"\"\"{{name: {i}, clock: {td['clock']}, delay: \"1\", direction: output}}\"\"\" for i in td['output_ports']]\n",
    "  delays = ',\\n  '.join(delays)\n",
    "  cfg = f\"\"\"\\\n",
    "vlsi.core.build_system: make\n",
    "vlsi.inputs.power_spec_type: cpf\n",
    "vlsi.inputs.power_spec_mode: auto\n",
    "\n",
    "design.defines: &DEFINES\n",
    "  - CLOCK_PERIOD={clock_period}\n",
    "{defines_str}\n",
    "\n",
    "vlsi.inputs.clocks: [{{name: \"clock\", period: \"{clock_period}ns\", uncertainty: \"100ps\"}}]\n",
    "\n",
    "vlsi.inputs.delays: [\n",
    "  {delays}\n",
    "]\n",
    "\n",
    "synthesis.inputs:\n",
    "  top_module: {td['top_module']}\n",
    "  input_files: {td['vsrcs']}\n",
    "  defines: *DEFINES\n",
    "\n",
    "sim.inputs:\n",
    "  top_module: {td['top_module']}\n",
    "  tb_name: {td['tb_name']}\n",
    "  tb_dut: {td['tb_dut']}\n",
    "  options: [\"-timescale=1ns/10ps\", \"-sverilog\"]\n",
    "  options_meta: append\n",
    "  defines: *DEFINES\n",
    "  defines_meta: append\n",
    "  level: rtl\n",
    "  input_files: {td['vsrcs'] + td['vsrcs_tb']}\n",
    "\n",
    "vlsi.core.power_tool: hammer.power.joules\n",
    "power.inputs:\n",
    "  level: rtl\n",
    "  top_module: {td['top_module']}\n",
    "  tb_name: {td['tb_name']}\n",
    "  tb_dut: {td['tb_dut']}\n",
    "  defines: *DEFINES\n",
    "  input_files: {td['vsrcs']}\n",
    "  report_configs:\n",
    "    - waveform_path: {td['root']}/output.fsdb\n",
    "      report_stem: {td['root']}/power\n",
    "      toggle_signal: {td['clock']}\n",
    "      num_toggles: 1\n",
    "      levels: all\n",
    "      output_formats:\n",
    "      - report\n",
    "      - plot_profile\n",
    "\"\"\"\n",
    "  with (td['root']/'config.yml').open('w') as f:\n",
    "    f.write(cfg)\n",
    "\n",
    "for t in tests_dict:\n",
    "  write_cfg(tests_dict[t])"
   ]
  },
  {
   "cell_type": "markdown",
   "metadata": {},
   "source": [
    "## Run experiments"
   ]
  },
  {
   "cell_type": "code",
   "execution_count": 12,
   "metadata": {},
   "outputs": [
    {
     "name": "stdout",
     "output_type": "stream",
     "text": [
      "\n",
      "\n",
      "\n",
      "\n"
     ]
    }
   ],
   "source": [
    "overwrite = False\n",
    "\n",
    "# generate custom make str for each test\n",
    "make = f\"\"\n",
    "make_extra = f\"\"\"pdk={PDK}\"\"\"\n",
    "if PDK == 'intech22': make_extra += f\" PDK_CONF=experiments/intech22.yml\"\n",
    "for t,td in tests_dict.items():\n",
    "    cfg = str(td['root']/'config.yml')\n",
    "    td['make'] = f\"design={td['design']} {make_extra} DESIGN_CONF={cfg}\"\n",
    "\n",
    "# build\n",
    "build_dpaths = {td['obj_dpath']: t for t,td in tests_dict.items()} # run build once per build dir (not once per test)\n",
    "for bd,t in build_dpaths.items():\n",
    "    if overwrite or not bd.exists():\n",
    "        print(f\"make build {tests_dict[t]['make']} -B\")\n",
    "print()\n",
    "\n",
    "# syn\n",
    "for bd,t in build_dpaths.items():\n",
    "    if overwrite or not (bd/\"syn-rundir/reports\").exists():\n",
    "        print(f\"make syn {tests_dict[t]['make']}\")\n",
    "print()\n",
    "\n",
    "# sim-rtl\n",
    "for t in tests_dict:\n",
    "    fp = tests_dict[t]['root']/'output.fsdb'\n",
    "    if overwrite or not fp.exists():\n",
    "        print(f\"make redo-sim-rtl {tests_dict[t]['make']}\")\n",
    "print()\n",
    "\n",
    "# power-rtl\n",
    "for t in tests_dict:\n",
    "    if overwrite or not (tests_dict[t]['root']/'power.power.rpt').exists():\n",
    "        # re-use pre_report_power database if it's already generated (i.e. skip synthesis)\n",
    "        make_target = \"redo-power-rtl args='--only_step report_power'\" \\\n",
    "            if (tests_dict[t]['obj_dpath']/'power-rtl-rundir/pre_report_power').exists() else 'power-rtl'\n",
    "        print(f\"make {make_target} {tests_dict[t]['make']}\")\n",
    "print()\n"
   ]
  },
  {
   "cell_type": "markdown",
   "metadata": {},
   "source": [
    "## Parse results"
   ]
  },
  {
   "cell_type": "code",
   "execution_count": 13,
   "metadata": {},
   "outputs": [
    {
     "data": {
      "text/html": [
       "<div>\n",
       "<style scoped>\n",
       "    .dataframe tbody tr th:only-of-type {\n",
       "        vertical-align: middle;\n",
       "    }\n",
       "\n",
       "    .dataframe tbody tr th {\n",
       "        vertical-align: top;\n",
       "    }\n",
       "\n",
       "    .dataframe thead th {\n",
       "        text-align: right;\n",
       "    }\n",
       "</style>\n",
       "<table border=\"1\" class=\"dataframe\">\n",
       "  <thead>\n",
       "    <tr style=\"text-align: right;\">\n",
       "      <th></th>\n",
       "      <th>design</th>\n",
       "      <th>test</th>\n",
       "      <th>time</th>\n",
       "      <th>Leakage (pJ)</th>\n",
       "      <th>Internal (pJ)</th>\n",
       "      <th>Switching (pJ)</th>\n",
       "      <th>Total (pJ)</th>\n",
       "    </tr>\n",
       "  </thead>\n",
       "  <tbody>\n",
       "    <tr>\n",
       "      <th>add8-zero</th>\n",
       "      <td>add8</td>\n",
       "      <td>zero</td>\n",
       "      <td>505.0</td>\n",
       "      <td>0.000002</td>\n",
       "      <td>0.000000</td>\n",
       "      <td>0.000000</td>\n",
       "      <td>0.000002</td>\n",
       "    </tr>\n",
       "    <tr>\n",
       "      <th>add8-max_input_switching</th>\n",
       "      <td>add8</td>\n",
       "      <td>max_input_switching</td>\n",
       "      <td>505.0</td>\n",
       "      <td>0.000002</td>\n",
       "      <td>0.616669</td>\n",
       "      <td>11.503799</td>\n",
       "      <td>12.120505</td>\n",
       "    </tr>\n",
       "    <tr>\n",
       "      <th>add8-max_output_switching</th>\n",
       "      <td>add8</td>\n",
       "      <td>max_output_switching</td>\n",
       "      <td>505.0</td>\n",
       "      <td>0.000001</td>\n",
       "      <td>0.545569</td>\n",
       "      <td>13.009406</td>\n",
       "      <td>13.555008</td>\n",
       "    </tr>\n",
       "    <tr>\n",
       "      <th>add32-zero</th>\n",
       "      <td>add32</td>\n",
       "      <td>zero</td>\n",
       "      <td>505.0</td>\n",
       "      <td>0.000008</td>\n",
       "      <td>0.000000</td>\n",
       "      <td>0.000000</td>\n",
       "      <td>0.000008</td>\n",
       "    </tr>\n",
       "    <tr>\n",
       "      <th>add32-max_input_switching</th>\n",
       "      <td>add32</td>\n",
       "      <td>max_input_switching</td>\n",
       "      <td>505.0</td>\n",
       "      <td>0.000008</td>\n",
       "      <td>2.752775</td>\n",
       "      <td>51.149632</td>\n",
       "      <td>53.902488</td>\n",
       "    </tr>\n",
       "    <tr>\n",
       "      <th>add32-max_output_switching</th>\n",
       "      <td>add32</td>\n",
       "      <td>max_output_switching</td>\n",
       "      <td>505.0</td>\n",
       "      <td>0.000007</td>\n",
       "      <td>2.288236</td>\n",
       "      <td>52.091659</td>\n",
       "      <td>54.379915</td>\n",
       "    </tr>\n",
       "  </tbody>\n",
       "</table>\n",
       "</div>"
      ],
      "text/plain": [
       "                           design                  test   time  Leakage (pJ)  \\\n",
       "add8-zero                    add8                  zero  505.0      0.000002   \n",
       "add8-max_input_switching     add8   max_input_switching  505.0      0.000002   \n",
       "add8-max_output_switching    add8  max_output_switching  505.0      0.000001   \n",
       "add32-zero                  add32                  zero  505.0      0.000008   \n",
       "add32-max_input_switching   add32   max_input_switching  505.0      0.000008   \n",
       "add32-max_output_switching  add32  max_output_switching  505.0      0.000007   \n",
       "\n",
       "                            Internal (pJ)  Switching (pJ)  Total (pJ)  \n",
       "add8-zero                        0.000000        0.000000    0.000002  \n",
       "add8-max_input_switching         0.616669       11.503799   12.120505  \n",
       "add8-max_output_switching        0.545569       13.009406   13.555008  \n",
       "add32-zero                       0.000000        0.000000    0.000008  \n",
       "add32-max_input_switching        2.752775       51.149632   53.902488  \n",
       "add32-max_output_switching       2.288236       52.091659   54.379915  "
      ]
     },
     "execution_count": 13,
     "metadata": {},
     "output_type": "execute_result"
    }
   ],
   "source": [
    "def parse_hier_power_rpt(fpath,inst) -> list:\n",
    "    with fpath.open('r') as f: lines = f.readlines()\n",
    "    for l in lines:\n",
    "        words = l.split()\n",
    "        if l.startswith('Power Unit'):\n",
    "            assert(words[-1] == 'mW'), f\"Wrong power unit in report, {l}\"\n",
    "        if inst == words[-1]:\n",
    "            return [float(p) for p in words[2:6]]\n",
    "    return []\n",
    "\n",
    "def get_duration(fpath) -> float:\n",
    "    with fpath.open('r') as f: lines = f.readlines()\n",
    "    time_power = [l.split() for l in lines]\n",
    "    time_power = [tp for tp in time_power if len(tp) == 2]\n",
    "    start = float(time_power[0][0])\n",
    "    end   = float(time_power[-1][0])\n",
    "    return end-start\n",
    "\n",
    "time = []\n",
    "power = list([])\n",
    "for t in tests_dict:\n",
    "    fpath = tests_dict[t]['root']/'power.hier.power.rpt'\n",
    "    power.append(parse_hier_power_rpt(fpath,tests_dict[t]['inst']))\n",
    "    fpath = tests_dict[t]['root']/'power.profile.png.data'\n",
    "    time.append(get_duration(fpath))\n",
    "\n",
    "time = pd.Series(time,   #  ns\n",
    "                    #  columns=['Duration'],\n",
    "                     index=tests_dict.keys()) # type: ignore\n",
    "\n",
    "power = pd.DataFrame(power,   #  mW\n",
    "                     columns=['Leakage','Internal','Switching','Total'],\n",
    "                     index=tests_dict.keys()) # type: ignore\n",
    "\n",
    "\n",
    "\n",
    "energy = power.mul(time,axis=0) / N_ITER # mW * ns = pJ\n",
    "energy.columns = [c+' (pJ)' for c in energy.columns]\n",
    "energy.insert(0,'time',time)\n",
    "energy.insert(0,'test',[i.split('-')[1] for i in energy.index])\n",
    "energy.insert(0,'design',[i.split('-')[0] for i in energy.index])\n",
    "\n",
    "\n",
    "energy.to_hdf(PDK+'.h5',key='df',mode='w')\n",
    "energy\n"
   ]
  },
  {
   "cell_type": "markdown",
   "metadata": {},
   "source": [
    "## Notes\n",
    "What do we want to test?\n",
    "\n",
    "Inputs:\n",
    "* 0 -> 0\n",
    "* 0 -> 11...11\n",
    "* different activity factors of adds\n",
    "\n",
    "Designs:\n",
    "* minimum critical path - can we force the synthesis tool to use faster gates\n",
    "\n",
    "Flow:\n",
    "* sim-rtl > power-rtl"
   ]
  }
 ],
 "metadata": {
  "kernelspec": {
   "display_name": "ml",
   "language": "python",
   "name": "ml"
  },
  "language_info": {
   "codemirror_mode": {
    "name": "ipython",
    "version": 3
   },
   "file_extension": ".py",
   "mimetype": "text/x-python",
   "name": "python",
   "nbconvert_exporter": "python",
   "pygments_lexer": "ipython3",
   "version": "3.10.9"
  }
 },
 "nbformat": 4,
 "nbformat_minor": 2
}
