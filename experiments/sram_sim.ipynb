{
 "cells": [
  {
   "cell_type": "code",
   "execution_count": 1,
   "metadata": {},
   "outputs": [],
   "source": [
    "import math\n",
    "import os\n",
    "import pandas as pd\n",
    "import subprocess\n",
    "from pathlib import Path"
   ]
  },
  {
   "cell_type": "markdown",
   "metadata": {},
   "source": [
    "## Setup"
   ]
  },
  {
   "cell_type": "code",
   "execution_count": 16,
   "metadata": {},
   "outputs": [],
   "source": [
    "# experiment setup\n",
    "my_pdk = 'sky130'\n",
    "my_design = 'sram_sim'\n",
    "my_inst = '/sram_sim/mem0'\n",
    "my_clock_period = 10 # ns\n",
    "\n",
    "# useful paths\n",
    "e2e_dpath = (Path(os.getcwd()).parent).parent\n",
    "tests_dpath = e2e_dpath/f'experiments/tests-{my_pdk}'"
   ]
  },
  {
   "cell_type": "markdown",
   "metadata": {},
   "source": [
    "## Generate Experiment Files "
   ]
  },
  {
   "cell_type": "markdown",
   "metadata": {},
   "source": [
    "### Input Files"
   ]
  },
  {
   "cell_type": "code",
   "execution_count": 18,
   "metadata": {},
   "outputs": [],
   "source": [
    "def parse_sram_cfg(config):\n",
    "    parts = config.split(\"_\")[1]\n",
    "    num_words = int(parts.split(\"x\")[0])\n",
    "    data_width = int(parts.split(\"x\")[1].split(\"m\")[0])\n",
    "    write_size = int(parts.split(\"w\")[1])\n",
    "\n",
    "    addr_width = int(math.ceil(math.log2(num_words)))\n",
    "    wmask_width = data_width // write_size\n",
    "\n",
    "    return {\n",
    "        \"SRAM\"        : config,\n",
    "        \"DATA_WIDTH\"  : data_width,\n",
    "        \"ADDR_WIDTH\"  : addr_width,\n",
    "        \"WMASK_WIDTH\" : wmask_width\n",
    "    }"
   ]
  },
  {
   "cell_type": "code",
   "execution_count": 19,
   "metadata": {},
   "outputs": [],
   "source": [
    "\n",
    "N_ITER = 50\n",
    "\n",
    "read, write = 0, 1\n",
    "\n",
    "zero_din = 0\n",
    "max_din32 = (1 << 32) - 1\n",
    "\n",
    "zero_addr, one_addr = 0, 1\n",
    "max_addr64 = (1 << 6) - 1\n",
    "\n",
    "zero_wmask = 0\n",
    "max_wmask32w8 = (1 << 4) - 1\n",
    "\n",
    "# tests_dict\n",
    "#   <sram_configuration>-<test_name>:\n",
    "#       inputs  : List\n",
    "#                 Each item is a list of items per line to be generated in input.txt\n",
    "#       defines : Dict  \n",
    "#                 Each key-value pair is a parameter=value appended to the Hammer config\n",
    "tests_dict = {\n",
    "    'sram64x32-zero': {\n",
    "        'inputs': [(read, zero_din, zero_addr, zero_wmask) for _ in range(N_ITER)],\n",
    "        'defines': parse_sram_cfg(\"sram22_64x32m4w8\"),\n",
    "    },\n",
    "    'sram64x32-max_input_switching': {\n",
    "        'inputs': [(read, zero_din, zero_addr, zero_wmask) if row % 2 else (write, max_din32, max_addr64, max_wmask32w8) for row in range(N_ITER)],\n",
    "        'defines': parse_sram_cfg(\"sram22_64x32m4w8\"),\n",
    "    },\n",
    "    'sram64x32-max_output_switching': {\n",
    "        'inputs': [(write, zero_din, zero_addr, max_wmask32w8), (write, max_din32, one_addr, max_wmask32w8)] + [(read, zero_din, zero_addr, zero_wmask) if row % 2 else (read, zero_din, one_addr, zero_wmask) for row in range(N_ITER)],\n",
    "        'defines': parse_sram_cfg(\"sram22_64x32m4w8\"),\n",
    "    },\n",
    "\n",
    "    # 'sram128x16-zero': {\n",
    "    #     'inputs': [],\n",
    "    #     'defines': parse_sram_cfg(\"sram22_128x16m4w8\"),\n",
    "    # },\n",
    "    # 'sram128x16-max_input_switching': {\n",
    "    #     'inputs': [],\n",
    "    #     'defines': parse_sram_cfg(\"sram22_128x16m4w8\"),\n",
    "    # },\n",
    "    # 'sram128x16-max_output_switching': {\n",
    "    #     'inputs': [],\n",
    "    #     'defines': parse_sram_cfg(\"sram22_128x16m4w8\"),\n",
    "    # },\n",
    "\n",
    "    # 'sram256x64-zero': {\n",
    "    #     'inputs': [],\n",
    "    #     'defines': parse_sram_cfg(\"sram22_256x64m4w8\"),\n",
    "    # },\n",
    "    # 'sram256x64-max_input_switching': {\n",
    "    #     'inputs': [],\n",
    "    #     'defines': parse_sram_cfg(\"sram22_256x64m4w8\"),\n",
    "    # },\n",
    "    # 'sram256x64-max_output_switching': {\n",
    "    #     'inputs': [],\n",
    "    #     'defines': parse_sram_cfg(\"sram22_256x64m4w8\"),\n",
    "    # },\n",
    "\n",
    "    # 'sram1024x32-zero': {\n",
    "    #     'inputs': [],\n",
    "    #     'defines': parse_sram_cfg(\"sram22_1024x32m4w8\"),\n",
    "    # },\n",
    "    # 'sram1024x32-max_input_switching': {\n",
    "    #     'inputs': [],\n",
    "    #     'defines': parse_sram_cfg(\"sram22_1024x32m4w8\"),\n",
    "    # },\n",
    "    # 'sram1024x32-max_output_switching': {\n",
    "    #     'inputs': [],\n",
    "    #     'defines': parse_sram_cfg(\"sram22_1024x32m4w8\"),\n",
    "    # },\n",
    "\n",
    "    # 'sram2048x8-zero': {\n",
    "    #     'inputs': [],\n",
    "    #     'defines': parse_sram_cfg(\"sram22_2048x8m4w8\"),\n",
    "    # },\n",
    "    # 'sram2048x8-max_input_switching': {\n",
    "    #     'inputs': [],\n",
    "    #     'defines': parse_sram_cfg(\"sram22_2048x8m4w8\"),\n",
    "    # },\n",
    "    # 'sram2048x8-max_output_switching': {\n",
    "    #     'inputs': [],\n",
    "    #     'defines': parse_sram_cfg(\"sram22_2048x8m4w8\"),\n",
    "    # }\n",
    "}"
   ]
  },
  {
   "cell_type": "code",
   "execution_count": 20,
   "metadata": {},
   "outputs": [],
   "source": [
    "# create dirs\n",
    "for t in tests_dict:\n",
    "    # directory for all input/output files\n",
    "    root = tests_dpath/t\n",
    "    root.mkdir(exist_ok=True,parents=True)\n",
    "    tests_dict[t]['defines']['TESTROOT'] = root\n",
    "    tests_dict[t]['root'] = root\n",
    "    # hammer build directory\n",
    "    design = t.split('-')[0]\n",
    "    obj_dir = f\"build-{my_pdk}-cm/{design}\"\n",
    "    tests_dict[t]['design'] = design\n",
    "    tests_dict[t]['obj_dir'] = obj_dir\n",
    "    tests_dict[t]['obj_dpath'] = e2e_dpath/obj_dir\n",
    "    \n",
    "\n",
    "# write out input.txt\n",
    "for t in tests_dict:\n",
    "    with (tests_dict[t]['root']/'input.txt').open('w') as f:\n",
    "        for i in tests_dict[t]['inputs']:\n",
    "            f.write(\" \".join(['{0:b}'.format(ii) for ii in i]) + '\\n')"
   ]
  },
  {
   "cell_type": "markdown",
   "metadata": {},
   "source": [
    "### Hammer Config"
   ]
  },
  {
   "cell_type": "code",
   "execution_count": 21,
   "metadata": {},
   "outputs": [],
   "source": [
    "def write_cfg_rtl(test_dict):\n",
    "  defines_str = '\\n'.join( [ f\"  - {key}={val}\" for key,val in test_dict['defines'].items() ] )\n",
    "  cfg = f\"\"\"\\\n",
    "design.defines: &DEFINES\n",
    "  - CLOCK_PERIOD=10\n",
    "{defines_str}\n",
    "\n",
    "sim.inputs:\n",
    "  defines: *DEFINES\n",
    "  defines_meta: 'append'\n",
    "\n",
    "synthesis.inputs.defines: *DEFINES\n",
    "\n",
    "power.inputs.defines: *DEFINES\n",
    "\n",
    "vlsi.core.power_tool: hammer.power.joules\n",
    "power.inputs:\n",
    "  level: rtl\n",
    "  input_files: [src/{my_design}.v]\n",
    "  report_configs:\n",
    "    - waveform_path: {test_dict['root']}/output.fsdb\n",
    "      report_stem: {test_dict['root']}/power\n",
    "      toggle_signal: clock\n",
    "      num_toggles: 1\n",
    "      levels: 2\n",
    "      inst: {my_inst}\n",
    "      output_formats:\n",
    "      - report\n",
    "      - plot_profile\n",
    "\"\"\"\n",
    "  with (test_dict['root']/'config.yml').open('w') as f:\n",
    "    f.write(cfg)\n",
    "\n",
    "for t in tests_dict:\n",
    "    write_cfg_rtl(tests_dict[t])"
   ]
  },
  {
   "cell_type": "markdown",
   "metadata": {},
   "source": [
    "## Run Experiments"
   ]
  },
  {
   "cell_type": "code",
   "execution_count": 22,
   "metadata": {},
   "outputs": [
    {
     "name": "stdout",
     "output_type": "stream",
     "text": [
      "Running: make build -B design=sram_sim OBJ_DIR=build-sky130-cm/sram64x32 extra=/bwrcq/scratch/henrycen/main/hammer/e2e/experiments/tests-sky130/sram64x32-max_output_switching/config.yml -B\n",
      "\n",
      "Running: make redo-sim-rtl -B design=sram_sim OBJ_DIR=build-sky130-cm/sram64x32 extra=/bwrcq/scratch/henrycen/main/hammer/e2e/experiments/tests-sky130/sram64x32-zero/config.yml\n",
      "Running: make redo-sim-rtl -B design=sram_sim OBJ_DIR=build-sky130-cm/sram64x32 extra=/bwrcq/scratch/henrycen/main/hammer/e2e/experiments/tests-sky130/sram64x32-max_input_switching/config.yml\n",
      "Running: make redo-sim-rtl -B design=sram_sim OBJ_DIR=build-sky130-cm/sram64x32 extra=/bwrcq/scratch/henrycen/main/hammer/e2e/experiments/tests-sky130/sram64x32-max_output_switching/config.yml\n",
      "\n",
      "Running: make redo-power-rtl args='--only_step report_power' -B design=sram_sim OBJ_DIR=build-sky130-cm/sram64x32 extra=/bwrcq/scratch/henrycen/main/hammer/e2e/experiments/tests-sky130/sram64x32-zero/config.yml\n",
      "Running: make redo-power-rtl args='--only_step report_power' -B design=sram_sim OBJ_DIR=build-sky130-cm/sram64x32 extra=/bwrcq/scratch/henrycen/main/hammer/e2e/experiments/tests-sky130/sram64x32-max_input_switching/config.yml\n",
      "Running: make redo-power-rtl args='--only_step report_power' -B design=sram_sim OBJ_DIR=build-sky130-cm/sram64x32 extra=/bwrcq/scratch/henrycen/main/hammer/e2e/experiments/tests-sky130/sram64x32-max_output_switching/config.yml\n",
      "\n"
     ]
    }
   ],
   "source": [
    "# generate custom make str for each test\n",
    "for t in tests_dict:\n",
    "    cfg = str(tests_dict[t]['root']/'config.yml')\n",
    "    tests_dict[t]['make'] = f\"design={my_design} OBJ_DIR={tests_dict[t]['obj_dir']} extra={cfg}\"\n",
    "\n",
    "# build\n",
    "build_dirs = {tests_dict[t]['obj_dir']: t for t in tests_dict} # run build once per build dir (not once per test)\n",
    "for bd,t in build_dirs.items():\n",
    "    command = f\"make build -B {tests_dict[t]['make']} -B\"\n",
    "    print(f\"Running: {command}\")\n",
    "    fpath = tests_dict[t]['root']/'power.hier.power.rpt'\n",
    "    if not fpath.exists():\n",
    "        subprocess.run(command, shell=True, cwd=e2e_dpath, check=True)\n",
    "print()\n",
    "\n",
    "# sim-rtl\n",
    "for t in tests_dict:\n",
    "    command = f\"make redo-sim-rtl -B {tests_dict[t]['make']}\"\n",
    "    print(f\"Running: {command}\")\n",
    "    fpath = tests_dict[t]['root']/'power.hier.power.rpt'\n",
    "    if not fpath.exists():\n",
    "        subprocess.run(command, shell=True, cwd=e2e_dpath, check=True)\n",
    "print()\n",
    "\n",
    "# power-rtl\n",
    "for t in tests_dict:\n",
    "    # re-use pre_report_power database if it's already generated (i.e. skip synthesis)\n",
    "    make_target = \"redo-power-rtl args='--only_step report_power'\" \\\n",
    "            if (tests_dict[t]['obj_dpath']/'power-rtl-rundir/pre_report_power').exists() else 'power-rtl'\n",
    "    command = f\"make {make_target} -B {tests_dict[t]['make']}\"\n",
    "    print(f\"Running: {command}\")\n",
    "    fpath = tests_dict[t]['root']/'power.hier.power.rpt'\n",
    "    if not fpath.exists():\n",
    "        subprocess.run(command, shell=True, cwd=e2e_dpath, check=True)\n",
    "print()"
   ]
  },
  {
   "cell_type": "markdown",
   "metadata": {},
   "source": [
    "## Parse Results"
   ]
  },
  {
   "cell_type": "code",
   "execution_count": 23,
   "metadata": {},
   "outputs": [
    {
     "name": "stdout",
     "output_type": "stream",
     "text": [
      "['4.67247e-05', '4.86227e-01', '/sram_sim/mem0']\n",
      "['6.05415e-04', '4.53329e-01', '/sram_sim/mem0']\n",
      "['4.08154e-04', '4.63063e-01', '/sram_sim/mem0']\n"
     ]
    },
    {
     "data": {
      "text/html": [
       "<div>\n",
       "<style scoped>\n",
       "    .dataframe tbody tr th:only-of-type {\n",
       "        vertical-align: middle;\n",
       "    }\n",
       "\n",
       "    .dataframe tbody tr th {\n",
       "        vertical-align: top;\n",
       "    }\n",
       "\n",
       "    .dataframe thead th {\n",
       "        text-align: right;\n",
       "    }\n",
       "</style>\n",
       "<table border=\"1\" class=\"dataframe\">\n",
       "  <thead>\n",
       "    <tr style=\"text-align: right;\">\n",
       "      <th></th>\n",
       "      <th>Leakage</th>\n",
       "      <th>Internal</th>\n",
       "      <th>Switching</th>\n",
       "      <th>Total</th>\n",
       "    </tr>\n",
       "  </thead>\n",
       "  <tbody>\n",
       "    <tr>\n",
       "      <th>sram64x32-zero</th>\n",
       "      <td>0.700542</td>\n",
       "      <td>4.16126</td>\n",
       "      <td>0.000467</td>\n",
       "      <td>4.86227</td>\n",
       "    </tr>\n",
       "    <tr>\n",
       "      <th>sram64x32-max_input_switching</th>\n",
       "      <td>0.700542</td>\n",
       "      <td>3.82669</td>\n",
       "      <td>0.006054</td>\n",
       "      <td>4.53329</td>\n",
       "    </tr>\n",
       "    <tr>\n",
       "      <th>sram64x32-max_output_switching</th>\n",
       "      <td>0.700542</td>\n",
       "      <td>3.92601</td>\n",
       "      <td>0.004082</td>\n",
       "      <td>4.63063</td>\n",
       "    </tr>\n",
       "  </tbody>\n",
       "</table>\n",
       "</div>"
      ],
      "text/plain": [
       "                                 Leakage  Internal  Switching    Total\n",
       "sram64x32-zero                  0.700542   4.16126   0.000467  4.86227\n",
       "sram64x32-max_input_switching   0.700542   3.82669   0.006054  4.53329\n",
       "sram64x32-max_output_switching  0.700542   3.92601   0.004082  4.63063"
      ]
     },
     "execution_count": 23,
     "metadata": {},
     "output_type": "execute_result"
    }
   ],
   "source": [
    "def parse_hier_power_rpt(fpath,inst) -> list:\n",
    "    with fpath.open('r') as f: lines = f.readlines()\n",
    "    for l in lines:\n",
    "        words = l.split()\n",
    "        if inst == words[-1]:\n",
    "            print(words[2:6])\n",
    "            return [float(p) for p in words[0:-1]]\n",
    "    return []\n",
    "\n",
    "power = list([])\n",
    "for t in tests_dict:\n",
    "    fpath = tests_dict[t]['root']/'power.hier.power.rpt'\n",
    "    power.append(parse_hier_power_rpt(fpath,my_inst))\n",
    "\n",
    "power = pd.DataFrame(power,   #  mW\n",
    "                     columns=['Leakage','Internal','Switching','Total'],\n",
    "                     index=tests_dict.keys()) # type: ignore\n",
    "\n",
    "energy = power * my_clock_period # mW * ns = pJ\n",
    "energy"
   ]
  }
 ],
 "metadata": {
  "kernelspec": {
   "display_name": "power",
   "language": "python",
   "name": "python3"
  },
  "language_info": {
   "codemirror_mode": {
    "name": "ipython",
    "version": 3
   },
   "file_extension": ".py",
   "mimetype": "text/x-python",
   "name": "python",
   "nbconvert_exporter": "python",
   "pygments_lexer": "ipython3",
   "version": "3.13.0"
  }
 },
 "nbformat": 4,
 "nbformat_minor": 2
}
